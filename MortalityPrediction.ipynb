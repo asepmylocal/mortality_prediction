{
 "cells": [
  {
   "cell_type": "markdown",
   "id": "97193cb9-4d30-4a78-96fd-407a68fa75dd",
   "metadata": {},
   "source": [
    "### Import Package"
   ]
  },
  {
   "cell_type": "code",
   "execution_count": 1,
   "id": "453b9476-f490-4bce-9b5a-8e48c84a427c",
   "metadata": {},
   "outputs": [],
   "source": [
    "import pandas as pd\n",
    "import seaborn as sns\n",
    "import matplotlib.pyplot as plt"
   ]
  },
  {
   "cell_type": "code",
   "execution_count": 2,
   "id": "b16bbb9e-7daf-48f5-b78b-ec09e6ba6210",
   "metadata": {},
   "outputs": [],
   "source": [
    "from sklearn.model_selection import train_test_split\n",
    "from sklearn.ensemble import RandomForestRegressor\n",
    "from sklearn.metrics import mean_absolute_error, mean_squared_error,r2_score"
   ]
  },
  {
   "cell_type": "markdown",
   "id": "b0171557-a26f-4040-9b66-65b9aa249c20",
   "metadata": {},
   "source": [
    "### Import Dataset"
   ]
  },
  {
   "cell_type": "code",
   "execution_count": 3,
   "id": "575b9a44-6d9e-4486-89ab-5588dda3b418",
   "metadata": {},
   "outputs": [
    {
     "data": {
      "text/html": [
       "<div>\n",
       "<style scoped>\n",
       "    .dataframe tbody tr th:only-of-type {\n",
       "        vertical-align: middle;\n",
       "    }\n",
       "\n",
       "    .dataframe tbody tr th {\n",
       "        vertical-align: top;\n",
       "    }\n",
       "\n",
       "    .dataframe thead th {\n",
       "        text-align: right;\n",
       "    }\n",
       "</style>\n",
       "<table border=\"1\" class=\"dataframe\">\n",
       "  <thead>\n",
       "    <tr style=\"text-align: right;\">\n",
       "      <th></th>\n",
       "      <th>kode</th>\n",
       "      <th>provinsi</th>\n",
       "      <th>tahun</th>\n",
       "      <th>kurang_40</th>\n",
       "      <th>41-50</th>\n",
       "      <th>51-60</th>\n",
       "      <th>61-70</th>\n",
       "      <th>lebih_70</th>\n",
       "      <th>meninggal</th>\n",
       "    </tr>\n",
       "  </thead>\n",
       "  <tbody>\n",
       "    <tr>\n",
       "      <th>0</th>\n",
       "      <td>1</td>\n",
       "      <td>ACEH</td>\n",
       "      <td>2016</td>\n",
       "      <td>7.792762</td>\n",
       "      <td>21.779223</td>\n",
       "      <td>36.757103</td>\n",
       "      <td>23.751399</td>\n",
       "      <td>9.919514</td>\n",
       "      <td>0.383775</td>\n",
       "    </tr>\n",
       "    <tr>\n",
       "      <th>1</th>\n",
       "      <td>3</td>\n",
       "      <td>RIAU</td>\n",
       "      <td>2016</td>\n",
       "      <td>7.314291</td>\n",
       "      <td>27.669283</td>\n",
       "      <td>40.121373</td>\n",
       "      <td>20.012776</td>\n",
       "      <td>4.882278</td>\n",
       "      <td>0.002236</td>\n",
       "    </tr>\n",
       "    <tr>\n",
       "      <th>2</th>\n",
       "      <td>4</td>\n",
       "      <td>KEPULAUAN RIAU</td>\n",
       "      <td>2016</td>\n",
       "      <td>7.722008</td>\n",
       "      <td>31.329288</td>\n",
       "      <td>32.855304</td>\n",
       "      <td>19.856591</td>\n",
       "      <td>8.236808</td>\n",
       "      <td>0.002390</td>\n",
       "    </tr>\n",
       "    <tr>\n",
       "      <th>3</th>\n",
       "      <td>7</td>\n",
       "      <td>JAMBI</td>\n",
       "      <td>2016</td>\n",
       "      <td>7.301235</td>\n",
       "      <td>22.822300</td>\n",
       "      <td>37.789040</td>\n",
       "      <td>23.661704</td>\n",
       "      <td>8.425721</td>\n",
       "      <td>0.004435</td>\n",
       "    </tr>\n",
       "    <tr>\n",
       "      <th>4</th>\n",
       "      <td>8</td>\n",
       "      <td>LAMPUNG</td>\n",
       "      <td>2016</td>\n",
       "      <td>7.956715</td>\n",
       "      <td>23.594314</td>\n",
       "      <td>37.534479</td>\n",
       "      <td>23.647358</td>\n",
       "      <td>7.267133</td>\n",
       "      <td>0.001167</td>\n",
       "    </tr>\n",
       "  </tbody>\n",
       "</table>\n",
       "</div>"
      ],
      "text/plain": [
       "   kode        provinsi  tahun  kurang_40      41-50      51-60      61-70  \\\n",
       "0     1            ACEH   2016   7.792762  21.779223  36.757103  23.751399   \n",
       "1     3            RIAU   2016   7.314291  27.669283  40.121373  20.012776   \n",
       "2     4  KEPULAUAN RIAU   2016   7.722008  31.329288  32.855304  19.856591   \n",
       "3     7           JAMBI   2016   7.301235  22.822300  37.789040  23.661704   \n",
       "4     8         LAMPUNG   2016   7.956715  23.594314  37.534479  23.647358   \n",
       "\n",
       "   lebih_70  meninggal  \n",
       "0  9.919514   0.383775  \n",
       "1  4.882278   0.002236  \n",
       "2  8.236808   0.002390  \n",
       "3  8.425721   0.004435  \n",
       "4  7.267133   0.001167  "
      ]
     },
     "execution_count": 3,
     "metadata": {},
     "output_type": "execute_result"
    }
   ],
   "source": [
    "df = pd.read_csv('dataset_mortality_min.csv')\n",
    "df.head()"
   ]
  },
  {
   "cell_type": "markdown",
   "id": "cd3e4d9b-38fc-40a2-a860-e09cc1e1645f",
   "metadata": {},
   "source": [
    "### Data Preparation"
   ]
  },
  {
   "cell_type": "code",
   "execution_count": 4,
   "id": "39c98399-3b47-477a-ab0c-4e8c69c79065",
   "metadata": {},
   "outputs": [],
   "source": [
    "X = df.drop(['kode','tahun','provinsi','meninggal'],axis=1)\n",
    "y = df['meninggal']\n",
    "X_train, X_test,y_train,y_test = train_test_split(X,y,test_size=0.1, random_state=42)"
   ]
  },
  {
   "cell_type": "markdown",
   "id": "c9eb542b-1aa7-41a3-89d2-ea6044231d5b",
   "metadata": {},
   "source": [
    "### Model Random Forest"
   ]
  },
  {
   "cell_type": "code",
   "execution_count": 5,
   "id": "4559a213-f743-4fdb-84a1-e3e42e268156",
   "metadata": {},
   "outputs": [
    {
     "data": {
      "text/html": [
       "<style>#sk-container-id-1 {color: black;}#sk-container-id-1 pre{padding: 0;}#sk-container-id-1 div.sk-toggleable {background-color: white;}#sk-container-id-1 label.sk-toggleable__label {cursor: pointer;display: block;width: 100%;margin-bottom: 0;padding: 0.3em;box-sizing: border-box;text-align: center;}#sk-container-id-1 label.sk-toggleable__label-arrow:before {content: \"▸\";float: left;margin-right: 0.25em;color: #696969;}#sk-container-id-1 label.sk-toggleable__label-arrow:hover:before {color: black;}#sk-container-id-1 div.sk-estimator:hover label.sk-toggleable__label-arrow:before {color: black;}#sk-container-id-1 div.sk-toggleable__content {max-height: 0;max-width: 0;overflow: hidden;text-align: left;background-color: #f0f8ff;}#sk-container-id-1 div.sk-toggleable__content pre {margin: 0.2em;color: black;border-radius: 0.25em;background-color: #f0f8ff;}#sk-container-id-1 input.sk-toggleable__control:checked~div.sk-toggleable__content {max-height: 200px;max-width: 100%;overflow: auto;}#sk-container-id-1 input.sk-toggleable__control:checked~label.sk-toggleable__label-arrow:before {content: \"▾\";}#sk-container-id-1 div.sk-estimator input.sk-toggleable__control:checked~label.sk-toggleable__label {background-color: #d4ebff;}#sk-container-id-1 div.sk-label input.sk-toggleable__control:checked~label.sk-toggleable__label {background-color: #d4ebff;}#sk-container-id-1 input.sk-hidden--visually {border: 0;clip: rect(1px 1px 1px 1px);clip: rect(1px, 1px, 1px, 1px);height: 1px;margin: -1px;overflow: hidden;padding: 0;position: absolute;width: 1px;}#sk-container-id-1 div.sk-estimator {font-family: monospace;background-color: #f0f8ff;border: 1px dotted black;border-radius: 0.25em;box-sizing: border-box;margin-bottom: 0.5em;}#sk-container-id-1 div.sk-estimator:hover {background-color: #d4ebff;}#sk-container-id-1 div.sk-parallel-item::after {content: \"\";width: 100%;border-bottom: 1px solid gray;flex-grow: 1;}#sk-container-id-1 div.sk-label:hover label.sk-toggleable__label {background-color: #d4ebff;}#sk-container-id-1 div.sk-serial::before {content: \"\";position: absolute;border-left: 1px solid gray;box-sizing: border-box;top: 0;bottom: 0;left: 50%;z-index: 0;}#sk-container-id-1 div.sk-serial {display: flex;flex-direction: column;align-items: center;background-color: white;padding-right: 0.2em;padding-left: 0.2em;position: relative;}#sk-container-id-1 div.sk-item {position: relative;z-index: 1;}#sk-container-id-1 div.sk-parallel {display: flex;align-items: stretch;justify-content: center;background-color: white;position: relative;}#sk-container-id-1 div.sk-item::before, #sk-container-id-1 div.sk-parallel-item::before {content: \"\";position: absolute;border-left: 1px solid gray;box-sizing: border-box;top: 0;bottom: 0;left: 50%;z-index: -1;}#sk-container-id-1 div.sk-parallel-item {display: flex;flex-direction: column;z-index: 1;position: relative;background-color: white;}#sk-container-id-1 div.sk-parallel-item:first-child::after {align-self: flex-end;width: 50%;}#sk-container-id-1 div.sk-parallel-item:last-child::after {align-self: flex-start;width: 50%;}#sk-container-id-1 div.sk-parallel-item:only-child::after {width: 0;}#sk-container-id-1 div.sk-dashed-wrapped {border: 1px dashed gray;margin: 0 0.4em 0.5em 0.4em;box-sizing: border-box;padding-bottom: 0.4em;background-color: white;}#sk-container-id-1 div.sk-label label {font-family: monospace;font-weight: bold;display: inline-block;line-height: 1.2em;}#sk-container-id-1 div.sk-label-container {text-align: center;}#sk-container-id-1 div.sk-container {/* jupyter's `normalize.less` sets `[hidden] { display: none; }` but bootstrap.min.css set `[hidden] { display: none !important; }` so we also need the `!important` here to be able to override the default hidden behavior on the sphinx rendered scikit-learn.org. See: https://github.com/scikit-learn/scikit-learn/issues/21755 */display: inline-block !important;position: relative;}#sk-container-id-1 div.sk-text-repr-fallback {display: none;}</style><div id=\"sk-container-id-1\" class=\"sk-top-container\"><div class=\"sk-text-repr-fallback\"><pre>RandomForestRegressor(n_estimators=1000, random_state=42)</pre><b>In a Jupyter environment, please rerun this cell to show the HTML representation or trust the notebook. <br />On GitHub, the HTML representation is unable to render, please try loading this page with nbviewer.org.</b></div><div class=\"sk-container\" hidden><div class=\"sk-item\"><div class=\"sk-estimator sk-toggleable\"><input class=\"sk-toggleable__control sk-hidden--visually\" id=\"sk-estimator-id-1\" type=\"checkbox\" checked><label for=\"sk-estimator-id-1\" class=\"sk-toggleable__label sk-toggleable__label-arrow\">RandomForestRegressor</label><div class=\"sk-toggleable__content\"><pre>RandomForestRegressor(n_estimators=1000, random_state=42)</pre></div></div></div></div></div>"
      ],
      "text/plain": [
       "RandomForestRegressor(n_estimators=1000, random_state=42)"
      ]
     },
     "execution_count": 5,
     "metadata": {},
     "output_type": "execute_result"
    }
   ],
   "source": [
    "rfr = RandomForestRegressor(n_estimators=1000,random_state=42)\n",
    "rfr.fit(X_train,y_train)"
   ]
  },
  {
   "cell_type": "markdown",
   "id": "f005e35c-7771-40d0-aae9-ec3be1ecd361",
   "metadata": {},
   "source": [
    "### Check Output"
   ]
  },
  {
   "cell_type": "code",
   "execution_count": 6,
   "id": "f2ede36a-a561-417c-89c5-d5aa78812a82",
   "metadata": {},
   "outputs": [],
   "source": [
    "y_pred = rfr.predict(X_test)"
   ]
  },
  {
   "cell_type": "markdown",
   "id": "7d81b0fc-2c22-447b-b187-522c79e62a58",
   "metadata": {},
   "source": [
    "### Scatter Plot"
   ]
  },
  {
   "cell_type": "code",
   "execution_count": 7,
   "id": "3850d9ef-026c-4c25-a762-3e8edb0b46f0",
   "metadata": {},
   "outputs": [
    {
     "data": {
      "image/png": "[encoded data removed]",
      "text/plain": [
       "<Figure size 1000x500 with 1 Axes>"
      ]
     },
     "metadata": {},
     "output_type": "display_data"
    }
   ],
   "source": [
    "plt.figure(figsize=(10,5))\n",
    "plt.scatter(y_test, y_pred,color='red',label='Perbandingan data aktual dan data prediksi')\n",
    "plt.legend()\n",
    "plt.grid()\n",
    "plt.title('Random Forest Regressor')\n",
    "plt.xlabel('Prediction Data')\n",
    "plt.ylabel('Actual Data')\n",
    "plt.show()"
   ]
  },
  {
   "cell_type": "markdown",
   "id": "f67e264a-5310-4e2c-8d05-2920be5de3f3",
   "metadata": {},
   "source": [
    "### Evaluation Metric"
   ]
  },
  {
   "cell_type": "markdown",
   "id": "ad3252d8-cc87-48bf-945d-9b849a2f4713",
   "metadata": {},
   "source": [
    "##### MAE"
   ]
  },
  {
   "cell_type": "code",
   "execution_count": 8,
   "id": "5abe8f13-094f-4e87-a624-3f763eccce4d",
   "metadata": {},
   "outputs": [
    {
     "data": {
      "text/plain": [
       "0.0757527764700005"
      ]
     },
     "execution_count": 8,
     "metadata": {},
     "output_type": "execute_result"
    }
   ],
   "source": [
    "mean_absolute_error(y_pred,y_test)"
   ]
  },
  {
   "cell_type": "markdown",
   "id": "b72914ab-1cc8-4454-be40-7ec54bddfcc0",
   "metadata": {},
   "source": [
    "##### MSE"
   ]
  },
  {
   "cell_type": "code",
   "execution_count": 9,
   "id": "6f0e8154-9d69-4880-be78-2c589a98d99b",
   "metadata": {},
   "outputs": [
    {
     "data": {
      "text/plain": [
       "0.006101563927765401"
      ]
     },
     "execution_count": 9,
     "metadata": {},
     "output_type": "execute_result"
    }
   ],
   "source": [
    "mean_squared_error(y_pred,y_test)"
   ]
  },
  {
   "cell_type": "markdown",
   "id": "bb94f1aa-27a6-4231-9bd3-b0509a05e9d3",
   "metadata": {},
   "source": [
    "##### R Square"
   ]
  },
  {
   "cell_type": "code",
   "execution_count": 10,
   "id": "b0088d3d-0da3-4347-8843-5f045de4d7ea",
   "metadata": {},
   "outputs": [
    {
     "data": {
      "text/plain": [
       "0.5737301490728874"
      ]
     },
     "execution_count": 10,
     "metadata": {},
     "output_type": "execute_result"
    }
   ],
   "source": [
    "r2_score(y_pred,y_test)"
   ]
  },
  {
   "cell_type": "code",
   "execution_count": 11,
   "id": "60043b56-1d3c-41b5-ae8d-615d507d64a2",
   "metadata": {},
   "outputs": [],
   "source": [
    "# print(X_test)"
   ]
  },
  {
   "cell_type": "code",
   "execution_count": 12,
   "id": "c4f65a60-ea12-4d12-846f-73521e32441e",
   "metadata": {},
   "outputs": [],
   "source": [
    "y_pred2 = rfr.predict(X_test.tail(1))"
   ]
  },
  {
   "cell_type": "code",
   "execution_count": 13,
   "id": "6707e0c4-1c24-49d0-9483-691f85d5a187",
   "metadata": {},
   "outputs": [
    {
     "name": "stdout",
     "output_type": "stream",
     "text": [
      "    kurang_40  41-50      51-60      61-70   lebih_70\n",
      "34  15.144766    0.0  23.830735  19.153675  18.596882\n"
     ]
    }
   ],
   "source": [
    "print(X_test.tail(1))"
   ]
  },
  {
   "cell_type": "markdown",
   "id": "cc218b7e-6e40-4e44-b44d-b6cf718c554f",
   "metadata": {},
   "source": [
    "### Testing New Data"
   ]
  },
  {
   "cell_type": "code",
   "execution_count": 14,
   "id": "c1fd66b3-0ff4-436f-9ac4-834e71b7792d",
   "metadata": {},
   "outputs": [],
   "source": [
    "new_data={\"kurang_40\":[20],\n",
    "      \"41-50\":[3],\n",
    "     \"51-60\":[4],\n",
    "     \"61-70\":[23],\n",
    "     \"lebih_70\":[34]\n",
    "     }"
   ]
  },
  {
   "cell_type": "code",
   "execution_count": 15,
   "id": "05f68b4e-8a78-401e-b4c1-7b9a3bdf4019",
   "metadata": {},
   "outputs": [],
   "source": [
    "df2 = pd.DataFrame(new_data)"
   ]
  },
  {
   "cell_type": "code",
   "execution_count": 16,
   "id": "df6402a9-9068-4080-82a8-b78fce8814b8",
   "metadata": {},
   "outputs": [
    {
     "name": "stdout",
     "output_type": "stream",
     "text": [
      "   kurang_40  41-50  51-60  61-70  lebih_70\n",
      "0         20      3      4     23        34\n"
     ]
    }
   ],
   "source": [
    "print(df2)"
   ]
  },
  {
   "cell_type": "code",
   "execution_count": 17,
   "id": "21d5e267-0127-4dd0-bda6-6e69f9f92a1a",
   "metadata": {},
   "outputs": [],
   "source": [
    "y_pred3 = rfr.predict(df2)"
   ]
  },
  {
   "cell_type": "code",
   "execution_count": 18,
   "id": "522a9c50-3261-45c0-8d22-aa6eacd221ad",
   "metadata": {},
   "outputs": [
    {
     "name": "stdout",
     "output_type": "stream",
     "text": [
      "[0.36972046]\n"
     ]
    }
   ],
   "source": [
    "print(y_pred3)"
   ]
  },
  {
   "cell_type": "code",
   "execution_count": null,
   "id": "6c73af2f-9172-410c-a87c-9e76d9afbb8b",
   "metadata": {},
   "outputs": [],
   "source": []
  }
 ],
 "metadata": {
  "kernelspec": {
   "display_name": "Python [conda env:env_2]",
   "language": "python",
   "name": "conda-env-env_2-py"
  },
  "language_info": {
   "codemirror_mode": {
    "name": "ipython",
    "version": 3
   },
   "file_extension": ".py",
   "mimetype": "text/x-python",
   "name": "python",
   "nbconvert_exporter": "python",
   "pygments_lexer": "ipython3",
   "version": "3.8.19"
  }
 },
 "nbformat": 4,
 "nbformat_minor": 5
}
